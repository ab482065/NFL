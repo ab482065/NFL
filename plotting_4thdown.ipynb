{
 "cells": [
  {
   "cell_type": "code",
   "execution_count": 11,
   "metadata": {
    "ExecuteTime": {
     "end_time": "2021-03-21T21:32:23.466211Z",
     "start_time": "2021-03-21T21:32:23.462945Z"
    }
   },
   "outputs": [],
   "source": [
    "import pandas as pd\n",
    "import matplotlib.pyplot as plt\n",
    "from pywaffle import Waffle"
   ]
  },
  {
   "cell_type": "code",
   "execution_count": 74,
   "metadata": {
    "ExecuteTime": {
     "end_time": "2021-03-21T21:54:28.658207Z",
     "start_time": "2021-03-21T21:54:28.650114Z"
    }
   },
   "outputs": [],
   "source": [
    "types = ['PUNT','FIELD_GOAL','PASS','RUSH']\n",
    "icons = ['frown', 'bullseye', 'football-ball', 'running']\n",
    "colors = [\"blue\", \"#DCB732\", \"brown\",'green']\n",
    "data = [.2,.1,.67,.03]\n",
    "df = pd.DataFrame(zip(data,icons,colors),index=types,columns=['prob','icons','colors']).sort_values(by='prob',ascending=False)"
   ]
  },
  {
   "cell_type": "code",
   "execution_count": 82,
   "metadata": {
    "ExecuteTime": {
     "end_time": "2021-03-21T21:56:21.313335Z",
     "start_time": "2021-03-21T21:56:20.912002Z"
    }
   },
   "outputs": [
    {
     "data": {
      "image/png": "[encoded data removed]",
      "text/plain": [
       "<Waffle size 432x288 with 1 Axes>"
      ]
     },
     "metadata": {
      "needs_background": "light"
     },
     "output_type": "display_data"
    }
   ],
   "source": [
    "fig = plt.figure(\n",
    "    FigureClass=Waffle, \n",
    "    rows=5,\n",
    "    values=round(df.prob*100),\n",
    "    labels=list(df.index),\n",
    "    colors=list(df.colors),\n",
    "    icons=list(df.icons),\n",
    "    font_size=13,\n",
    "    icon_style='solid',\n",
    "    icon_legend=True,\n",
    "    legend={\n",
    "        'labels': list(df.index), \n",
    "        'loc': 'upper left', \n",
    "        'bbox_to_anchor': (1, 1)\n",
    "    }\n",
    ")"
   ]
  },
  {
   "cell_type": "code",
   "execution_count": 83,
   "metadata": {
    "ExecuteTime": {
     "end_time": "2021-03-21T22:29:22.181068Z",
     "start_time": "2021-03-21T22:29:21.136738Z"
    }
   },
   "outputs": [],
   "source": [
    "import streamlit as st"
   ]
  },
  {
   "cell_type": "code",
   "execution_count": null,
   "metadata": {},
   "outputs": [],
   "source": [
    "st.text()"
   ]
  }
 ],
 "metadata": {
  "kernelspec": {
   "display_name": "Python 3",
   "language": "python",
   "name": "python3"
  },
  "language_info": {
   "codemirror_mode": {
    "name": "ipython",
    "version": 3
   },
   "file_extension": ".py",
   "mimetype": "text/x-python",
   "name": "python",
   "nbconvert_exporter": "python",
   "pygments_lexer": "ipython3",
   "version": "3.8.3"
  }
 },
 "nbformat": 4,
 "nbformat_minor": 4
}
